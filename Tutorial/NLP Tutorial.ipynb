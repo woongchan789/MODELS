{
  "nbformat": 4,
  "nbformat_minor": 0,
  "metadata": {
    "colab": {
      "provenance": []
    },
    "kernelspec": {
      "name": "python3",
      "display_name": "Python 3"
    },
    "language_info": {
      "name": "python"
    }
  },
  "cells": [
    {
      "cell_type": "markdown",
      "source": [
        "## Sentiment Analysis using Sequential model"
      ],
      "metadata": {
        "id": "PMhcWxU3iSKj"
      }
    },
    {
      "cell_type": "code",
      "execution_count": 90,
      "metadata": {
        "id": "34eEXrA8zsif"
      },
      "outputs": [],
      "source": [
        "import tensorflow as tf\n",
        "from tensorflow.keras import layers, preprocessing\n",
        "\n",
        "samples = ['너 오늘 이뻐 보인다',\n",
        "           '나는 오늘 기분이 더러워',\n",
        "           '끝내주는데, 좋은 일이 있나봐',\n",
        "           '나 좋은 일이 생겼어',\n",
        "           '아 오늘 진짜 짜증나',\n",
        "           '환상적인데, 정말 좋은거 같아']\n",
        "\n",
        "labels = [[1],[0],[1],[1],[0],[1]]\n",
        "tokenizer = preprocessing.text.Tokenizer()\n",
        "tokenizer.fit_on_texts(samples)\n",
        "sequences = tokenizer.texts_to_sequences(samples)\n",
        "\n",
        "word_idx = tokenizer.word_index"
      ]
    },
    {
      "cell_type": "code",
      "source": [
        "print(sequences[0])\n",
        "print(word_idx)"
      ],
      "metadata": {
        "colab": {
          "base_uri": "https://localhost:8080/"
        },
        "id": "JkDfXFg6bh8f",
        "outputId": "44e986a5-2cb2-4e81-aabb-db807177de27"
      },
      "execution_count": 91,
      "outputs": [
        {
          "output_type": "stream",
          "name": "stdout",
          "text": [
            "[4, 1, 5, 6]\n",
            "{'오늘': 1, '좋은': 2, '일이': 3, '너': 4, '이뻐': 5, '보인다': 6, '나는': 7, '기분이': 8, '더러워': 9, '끝내주는데': 10, '있나봐': 11, '나': 12, '생겼어': 13, '아': 14, '진짜': 15, '짜증나': 16, '환상적인데': 17, '정말': 18, '좋은거': 19, '같아': 20}\n"
          ]
        }
      ]
    },
    {
      "cell_type": "code",
      "source": [
        "batch_size = 2\n",
        "num_epochs = 100\n",
        "vocab_size = len(word_idx) + 1 # padding token 때문에 + 1\n",
        "emb_size = 128\n",
        "hidden_dimension = 256\n",
        "output_dimension = 1"
      ],
      "metadata": {
        "id": "U-8RSRtb0hiy"
      },
      "execution_count": 92,
      "outputs": []
    },
    {
      "cell_type": "markdown",
      "source": [
        "### Method 1. Sequential API"
      ],
      "metadata": {
        "id": "oTUzSCeqdmjw"
      }
    },
    {
      "cell_type": "code",
      "source": [
        "model = tf.keras.Sequential()\n",
        "model.add(layers.Embedding(vocab_size, emb_size, input_length=4))\n",
        "model.add(layers.Lambda(lambda x:tf.reduce_mean(x, axis=1))) # reduce_mean은 차원을 감소하면서 평균을 계산\n",
        "model.add(layers.Dense(hidden_dimension, activation='relu'))\n",
        "model.add(layers.Dense(output_dimension, activation='sigmoid'))"
      ],
      "metadata": {
        "id": "Hp1nEmrQ0rGW"
      },
      "execution_count": 93,
      "outputs": []
    },
    {
      "cell_type": "markdown",
      "source": [
        "### Method 2. Sequential API + list 형식"
      ],
      "metadata": {
        "id": "q3Ymu5PydY4N"
      }
    },
    {
      "cell_type": "code",
      "source": [
        "model = tf.keras.Sequential([\n",
        "    layers.Embedding(vocab_size, emb_size, input_length=4),\n",
        "    layers.Lambda(lambda x: tf.reduce_mean(x, axis=1)),\n",
        "    layers.Dense(hidden_dimension, activation='relu'),\n",
        "    layers.Dense(output_dimension, activation='sigmoid')\n",
        "])"
      ],
      "metadata": {
        "id": "e7SJEARqd2tv"
      },
      "execution_count": 94,
      "outputs": []
    },
    {
      "cell_type": "markdown",
      "source": [
        "### Method 3. Functional API"
      ],
      "metadata": {
        "id": "zY2xfqcHeRwj"
      }
    },
    {
      "cell_type": "code",
      "source": [
        "inputs = layers.Input(shape = (4,))\n",
        "embed_output = layers.Embedding(vocab_size, emb_size)(inputs)\n",
        "pooled_output = tf.reduce_mean(embed_output, axis=1)\n",
        "hidden_layer = layers.Dense(hidden_dimension, activation='relu')(pooled_output)\n",
        "outputs = layers.Dense(output_dimension, activation='sigmoid')(hidden_layer)\n",
        "\n",
        "model = tf.keras.Model(inputs=inputs, outputs=outputs)\n",
        "\n",
        "model.compile(optimizer=tf.keras.optimizers.Adam(0.001),\n",
        "              loss='binary_crossentropy',\n",
        "              metrics=['accuracy'])\n",
        "\n",
        "model.fit(sequences, labels, epochs=num_epochs, batch_size=batch_size)"
      ],
      "metadata": {
        "colab": {
          "base_uri": "https://localhost:8080/"
        },
        "id": "svHeuTj3eWs5",
        "outputId": "f0e0b036-0f50-49fc-a2b2-7259abfdc8ba"
      },
      "execution_count": 95,
      "outputs": [
        {
          "output_type": "stream",
          "name": "stdout",
          "text": [
            "Epoch 1/100\n",
            "3/3 [==============================] - 1s 13ms/step - loss: 0.6953 - accuracy: 0.3333\n",
            "Epoch 2/100\n",
            "3/3 [==============================] - 0s 8ms/step - loss: 0.6766 - accuracy: 1.0000\n",
            "Epoch 3/100\n",
            "3/3 [==============================] - 0s 7ms/step - loss: 0.6627 - accuracy: 1.0000\n",
            "Epoch 4/100\n",
            "3/3 [==============================] - 0s 10ms/step - loss: 0.6504 - accuracy: 1.0000\n",
            "Epoch 5/100\n",
            "3/3 [==============================] - 0s 10ms/step - loss: 0.6346 - accuracy: 1.0000\n",
            "Epoch 6/100\n",
            "3/3 [==============================] - 0s 8ms/step - loss: 0.6171 - accuracy: 1.0000\n",
            "Epoch 7/100\n",
            "3/3 [==============================] - 0s 8ms/step - loss: 0.5979 - accuracy: 1.0000\n",
            "Epoch 8/100\n",
            "3/3 [==============================] - 0s 7ms/step - loss: 0.5732 - accuracy: 1.0000\n",
            "Epoch 9/100\n",
            "3/3 [==============================] - 0s 8ms/step - loss: 0.5433 - accuracy: 1.0000\n",
            "Epoch 10/100\n",
            "3/3 [==============================] - 0s 6ms/step - loss: 0.5093 - accuracy: 1.0000\n",
            "Epoch 11/100\n",
            "3/3 [==============================] - 0s 8ms/step - loss: 0.4720 - accuracy: 1.0000\n",
            "Epoch 12/100\n",
            "3/3 [==============================] - 0s 7ms/step - loss: 0.4312 - accuracy: 1.0000\n",
            "Epoch 13/100\n",
            "3/3 [==============================] - 0s 7ms/step - loss: 0.3849 - accuracy: 1.0000\n",
            "Epoch 14/100\n",
            "3/3 [==============================] - 0s 8ms/step - loss: 0.3398 - accuracy: 1.0000\n",
            "Epoch 15/100\n",
            "3/3 [==============================] - 0s 6ms/step - loss: 0.2914 - accuracy: 1.0000\n",
            "Epoch 16/100\n",
            "3/3 [==============================] - 0s 6ms/step - loss: 0.2461 - accuracy: 1.0000\n",
            "Epoch 17/100\n",
            "3/3 [==============================] - 0s 7ms/step - loss: 0.2058 - accuracy: 1.0000\n",
            "Epoch 18/100\n",
            "3/3 [==============================] - 0s 7ms/step - loss: 0.1671 - accuracy: 1.0000\n",
            "Epoch 19/100\n",
            "3/3 [==============================] - 0s 7ms/step - loss: 0.1358 - accuracy: 1.0000\n",
            "Epoch 20/100\n",
            "3/3 [==============================] - 0s 7ms/step - loss: 0.1068 - accuracy: 1.0000\n",
            "Epoch 21/100\n",
            "3/3 [==============================] - 0s 8ms/step - loss: 0.0849 - accuracy: 1.0000\n",
            "Epoch 22/100\n",
            "3/3 [==============================] - 0s 7ms/step - loss: 0.0696 - accuracy: 1.0000\n",
            "Epoch 23/100\n",
            "3/3 [==============================] - 0s 7ms/step - loss: 0.0545 - accuracy: 1.0000\n",
            "Epoch 24/100\n",
            "3/3 [==============================] - 0s 7ms/step - loss: 0.0431 - accuracy: 1.0000\n",
            "Epoch 25/100\n",
            "3/3 [==============================] - 0s 7ms/step - loss: 0.0339 - accuracy: 1.0000\n",
            "Epoch 26/100\n",
            "3/3 [==============================] - 0s 7ms/step - loss: 0.0265 - accuracy: 1.0000\n",
            "Epoch 27/100\n",
            "3/3 [==============================] - 0s 7ms/step - loss: 0.0222 - accuracy: 1.0000\n",
            "Epoch 28/100\n",
            "3/3 [==============================] - 0s 7ms/step - loss: 0.0182 - accuracy: 1.0000\n",
            "Epoch 29/100\n",
            "3/3 [==============================] - 0s 8ms/step - loss: 0.0153 - accuracy: 1.0000\n",
            "Epoch 30/100\n",
            "3/3 [==============================] - 0s 8ms/step - loss: 0.0133 - accuracy: 1.0000\n",
            "Epoch 31/100\n",
            "3/3 [==============================] - 0s 7ms/step - loss: 0.0113 - accuracy: 1.0000\n",
            "Epoch 32/100\n",
            "3/3 [==============================] - 0s 6ms/step - loss: 0.0098 - accuracy: 1.0000\n",
            "Epoch 33/100\n",
            "3/3 [==============================] - 0s 7ms/step - loss: 0.0089 - accuracy: 1.0000\n",
            "Epoch 34/100\n",
            "3/3 [==============================] - 0s 11ms/step - loss: 0.0077 - accuracy: 1.0000\n",
            "Epoch 35/100\n",
            "3/3 [==============================] - 0s 8ms/step - loss: 0.0070 - accuracy: 1.0000\n",
            "Epoch 36/100\n",
            "3/3 [==============================] - 0s 10ms/step - loss: 0.0063 - accuracy: 1.0000\n",
            "Epoch 37/100\n",
            "3/3 [==============================] - 0s 7ms/step - loss: 0.0058 - accuracy: 1.0000\n",
            "Epoch 38/100\n",
            "3/3 [==============================] - 0s 7ms/step - loss: 0.0054 - accuracy: 1.0000\n",
            "Epoch 39/100\n",
            "3/3 [==============================] - 0s 7ms/step - loss: 0.0050 - accuracy: 1.0000\n",
            "Epoch 40/100\n",
            "3/3 [==============================] - 0s 8ms/step - loss: 0.0046 - accuracy: 1.0000\n",
            "Epoch 41/100\n",
            "3/3 [==============================] - 0s 8ms/step - loss: 0.0043 - accuracy: 1.0000\n",
            "Epoch 42/100\n",
            "3/3 [==============================] - 0s 7ms/step - loss: 0.0041 - accuracy: 1.0000\n",
            "Epoch 43/100\n",
            "3/3 [==============================] - 0s 8ms/step - loss: 0.0039 - accuracy: 1.0000\n",
            "Epoch 44/100\n",
            "3/3 [==============================] - 0s 8ms/step - loss: 0.0037 - accuracy: 1.0000\n",
            "Epoch 45/100\n",
            "3/3 [==============================] - 0s 8ms/step - loss: 0.0035 - accuracy: 1.0000\n",
            "Epoch 46/100\n",
            "3/3 [==============================] - 0s 7ms/step - loss: 0.0033 - accuracy: 1.0000\n",
            "Epoch 47/100\n",
            "3/3 [==============================] - 0s 6ms/step - loss: 0.0031 - accuracy: 1.0000\n",
            "Epoch 48/100\n",
            "3/3 [==============================] - 0s 7ms/step - loss: 0.0030 - accuracy: 1.0000\n",
            "Epoch 49/100\n",
            "3/3 [==============================] - 0s 7ms/step - loss: 0.0028 - accuracy: 1.0000\n",
            "Epoch 50/100\n",
            "3/3 [==============================] - 0s 8ms/step - loss: 0.0027 - accuracy: 1.0000\n",
            "Epoch 51/100\n",
            "3/3 [==============================] - 0s 9ms/step - loss: 0.0026 - accuracy: 1.0000\n",
            "Epoch 52/100\n",
            "3/3 [==============================] - 0s 8ms/step - loss: 0.0025 - accuracy: 1.0000\n",
            "Epoch 53/100\n",
            "3/3 [==============================] - 0s 9ms/step - loss: 0.0024 - accuracy: 1.0000\n",
            "Epoch 54/100\n",
            "3/3 [==============================] - 0s 7ms/step - loss: 0.0023 - accuracy: 1.0000\n",
            "Epoch 55/100\n",
            "3/3 [==============================] - 0s 8ms/step - loss: 0.0022 - accuracy: 1.0000\n",
            "Epoch 56/100\n",
            "3/3 [==============================] - 0s 9ms/step - loss: 0.0021 - accuracy: 1.0000\n",
            "Epoch 57/100\n",
            "3/3 [==============================] - 0s 8ms/step - loss: 0.0020 - accuracy: 1.0000\n",
            "Epoch 58/100\n",
            "3/3 [==============================] - 0s 6ms/step - loss: 0.0019 - accuracy: 1.0000\n",
            "Epoch 59/100\n",
            "3/3 [==============================] - 0s 7ms/step - loss: 0.0019 - accuracy: 1.0000\n",
            "Epoch 60/100\n",
            "3/3 [==============================] - 0s 6ms/step - loss: 0.0018 - accuracy: 1.0000\n",
            "Epoch 61/100\n",
            "3/3 [==============================] - 0s 8ms/step - loss: 0.0017 - accuracy: 1.0000\n",
            "Epoch 62/100\n",
            "3/3 [==============================] - 0s 7ms/step - loss: 0.0017 - accuracy: 1.0000\n",
            "Epoch 63/100\n",
            "3/3 [==============================] - 0s 8ms/step - loss: 0.0016 - accuracy: 1.0000\n",
            "Epoch 64/100\n",
            "3/3 [==============================] - 0s 7ms/step - loss: 0.0016 - accuracy: 1.0000\n",
            "Epoch 65/100\n",
            "3/3 [==============================] - 0s 9ms/step - loss: 0.0015 - accuracy: 1.0000\n",
            "Epoch 66/100\n",
            "3/3 [==============================] - 0s 8ms/step - loss: 0.0015 - accuracy: 1.0000\n",
            "Epoch 67/100\n",
            "3/3 [==============================] - 0s 8ms/step - loss: 0.0014 - accuracy: 1.0000\n",
            "Epoch 68/100\n",
            "3/3 [==============================] - 0s 9ms/step - loss: 0.0014 - accuracy: 1.0000\n",
            "Epoch 69/100\n",
            "3/3 [==============================] - 0s 8ms/step - loss: 0.0013 - accuracy: 1.0000\n",
            "Epoch 70/100\n",
            "3/3 [==============================] - 0s 7ms/step - loss: 0.0013 - accuracy: 1.0000\n",
            "Epoch 71/100\n",
            "3/3 [==============================] - 0s 6ms/step - loss: 0.0013 - accuracy: 1.0000\n",
            "Epoch 72/100\n",
            "3/3 [==============================] - 0s 7ms/step - loss: 0.0012 - accuracy: 1.0000\n",
            "Epoch 73/100\n",
            "3/3 [==============================] - 0s 7ms/step - loss: 0.0012 - accuracy: 1.0000\n",
            "Epoch 74/100\n",
            "3/3 [==============================] - 0s 7ms/step - loss: 0.0012 - accuracy: 1.0000\n",
            "Epoch 75/100\n",
            "3/3 [==============================] - 0s 9ms/step - loss: 0.0011 - accuracy: 1.0000\n",
            "Epoch 76/100\n",
            "3/3 [==============================] - 0s 10ms/step - loss: 0.0011 - accuracy: 1.0000\n",
            "Epoch 77/100\n",
            "3/3 [==============================] - 0s 7ms/step - loss: 0.0011 - accuracy: 1.0000\n",
            "Epoch 78/100\n",
            "3/3 [==============================] - 0s 7ms/step - loss: 0.0010 - accuracy: 1.0000\n",
            "Epoch 79/100\n",
            "3/3 [==============================] - 0s 7ms/step - loss: 0.0010 - accuracy: 1.0000\n",
            "Epoch 80/100\n",
            "3/3 [==============================] - 0s 7ms/step - loss: 9.9137e-04 - accuracy: 1.0000\n",
            "Epoch 81/100\n",
            "3/3 [==============================] - 0s 9ms/step - loss: 9.6874e-04 - accuracy: 1.0000\n",
            "Epoch 82/100\n",
            "3/3 [==============================] - 0s 9ms/step - loss: 9.4567e-04 - accuracy: 1.0000\n",
            "Epoch 83/100\n",
            "3/3 [==============================] - 0s 12ms/step - loss: 9.1973e-04 - accuracy: 1.0000\n",
            "Epoch 84/100\n",
            "3/3 [==============================] - 0s 7ms/step - loss: 9.0005e-04 - accuracy: 1.0000\n",
            "Epoch 85/100\n",
            "3/3 [==============================] - 0s 8ms/step - loss: 8.7848e-04 - accuracy: 1.0000\n",
            "Epoch 86/100\n",
            "3/3 [==============================] - 0s 7ms/step - loss: 8.5649e-04 - accuracy: 1.0000\n",
            "Epoch 87/100\n",
            "3/3 [==============================] - 0s 6ms/step - loss: 8.3661e-04 - accuracy: 1.0000\n",
            "Epoch 88/100\n",
            "3/3 [==============================] - 0s 8ms/step - loss: 8.1703e-04 - accuracy: 1.0000\n",
            "Epoch 89/100\n",
            "3/3 [==============================] - 0s 7ms/step - loss: 8.0211e-04 - accuracy: 1.0000\n",
            "Epoch 90/100\n",
            "3/3 [==============================] - 0s 7ms/step - loss: 7.8254e-04 - accuracy: 1.0000\n",
            "Epoch 91/100\n",
            "3/3 [==============================] - 0s 9ms/step - loss: 7.6240e-04 - accuracy: 1.0000\n",
            "Epoch 92/100\n",
            "3/3 [==============================] - 0s 8ms/step - loss: 7.4847e-04 - accuracy: 1.0000\n",
            "Epoch 93/100\n",
            "3/3 [==============================] - 0s 7ms/step - loss: 7.3024e-04 - accuracy: 1.0000\n",
            "Epoch 94/100\n",
            "3/3 [==============================] - 0s 8ms/step - loss: 7.1607e-04 - accuracy: 1.0000\n",
            "Epoch 95/100\n",
            "3/3 [==============================] - 0s 8ms/step - loss: 7.0028e-04 - accuracy: 1.0000\n",
            "Epoch 96/100\n",
            "3/3 [==============================] - 0s 8ms/step - loss: 6.8445e-04 - accuracy: 1.0000\n",
            "Epoch 97/100\n",
            "3/3 [==============================] - 0s 9ms/step - loss: 6.7003e-04 - accuracy: 1.0000\n",
            "Epoch 98/100\n",
            "3/3 [==============================] - 0s 7ms/step - loss: 6.5737e-04 - accuracy: 1.0000\n",
            "Epoch 99/100\n",
            "3/3 [==============================] - 0s 7ms/step - loss: 6.4388e-04 - accuracy: 1.0000\n",
            "Epoch 100/100\n",
            "3/3 [==============================] - 0s 8ms/step - loss: 6.3139e-04 - accuracy: 1.0000\n"
          ]
        },
        {
          "output_type": "execute_result",
          "data": {
            "text/plain": [
              "<keras.callbacks.History at 0x7ff5c4c42ee0>"
            ]
          },
          "metadata": {},
          "execution_count": 95
        }
      ]
    },
    {
      "cell_type": "markdown",
      "source": [
        "### Method 4. Subclassing (Custom model)"
      ],
      "metadata": {
        "id": "BvM84akJfxCM"
      }
    },
    {
      "cell_type": "code",
      "source": [
        "class CustomModel(tf.keras.Model):\n",
        "\n",
        "  def __init__(self, vocab_size, embed_dimension, hidden_dimension, output_dimension):\n",
        "    super(CustomModel, self).__init__(name='my_model') # name을 지정할 때는 공백이 포함되지 않도록 조심\n",
        "    self.embedding = layers.Embedding(vocab_size, embed_dimension)\n",
        "    self.dense_layer = layers.Dense(hidden_dimension, activation='relu')\n",
        "    self.output_layer = layers.Dense(output_dimension, activation='sigmoid')\n",
        "\n",
        "  def call(self, inputs):\n",
        "    x = self.embedding(inputs)\n",
        "    x = tf.reduce_mean(x, axis=1)\n",
        "    x = self.dense_layer(x)\n",
        "    x = self.output_layer(x)\n",
        "\n",
        "    return x"
      ],
      "metadata": {
        "id": "lGIVoj7Hf7Vg"
      },
      "execution_count": 96,
      "outputs": []
    },
    {
      "cell_type": "code",
      "source": [
        "model = CustomModel(vocab_size=vocab_size,\n",
        "                    embed_dimension=emb_size,\n",
        "                    hidden_dimension=hidden_dimension,\n",
        "                    output_dimension=output_dimension)\n",
        "\n",
        "model.compile(optimizer=tf.keras.optimizers.Adam(0.001),\n",
        "              loss='binary_crossentropy',\n",
        "              metrics=['accuracy'])\n",
        "\n",
        "model.fit(sequences, labels, epochs=num_epochs, batch_size=batch_size)"
      ],
      "metadata": {
        "colab": {
          "base_uri": "https://localhost:8080/"
        },
        "id": "x7Bf34qDgpZ8",
        "outputId": "af00a8e1-b652-4c4d-f0a2-992e25440e23"
      },
      "execution_count": 97,
      "outputs": [
        {
          "output_type": "stream",
          "name": "stdout",
          "text": [
            "Epoch 1/100\n",
            "3/3 [==============================] - 1s 8ms/step - loss: 0.6884 - accuracy: 0.6667\n",
            "Epoch 2/100\n",
            "3/3 [==============================] - 0s 9ms/step - loss: 0.6696 - accuracy: 0.8333\n",
            "Epoch 3/100\n",
            "3/3 [==============================] - 0s 7ms/step - loss: 0.6529 - accuracy: 1.0000\n",
            "Epoch 4/100\n",
            "3/3 [==============================] - 0s 10ms/step - loss: 0.6348 - accuracy: 1.0000\n",
            "Epoch 5/100\n",
            "3/3 [==============================] - 0s 10ms/step - loss: 0.6137 - accuracy: 1.0000\n",
            "Epoch 6/100\n",
            "3/3 [==============================] - 0s 8ms/step - loss: 0.5927 - accuracy: 1.0000\n",
            "Epoch 7/100\n",
            "3/3 [==============================] - 0s 7ms/step - loss: 0.5647 - accuracy: 1.0000\n",
            "Epoch 8/100\n",
            "3/3 [==============================] - 0s 9ms/step - loss: 0.5327 - accuracy: 1.0000\n",
            "Epoch 9/100\n",
            "3/3 [==============================] - 0s 8ms/step - loss: 0.4968 - accuracy: 1.0000\n",
            "Epoch 10/100\n",
            "3/3 [==============================] - 0s 9ms/step - loss: 0.4564 - accuracy: 1.0000\n",
            "Epoch 11/100\n",
            "3/3 [==============================] - 0s 8ms/step - loss: 0.4106 - accuracy: 1.0000\n",
            "Epoch 12/100\n",
            "3/3 [==============================] - 0s 9ms/step - loss: 0.3629 - accuracy: 1.0000\n",
            "Epoch 13/100\n",
            "3/3 [==============================] - 0s 8ms/step - loss: 0.3146 - accuracy: 1.0000\n",
            "Epoch 14/100\n",
            "3/3 [==============================] - 0s 7ms/step - loss: 0.2665 - accuracy: 1.0000\n",
            "Epoch 15/100\n",
            "3/3 [==============================] - 0s 8ms/step - loss: 0.2218 - accuracy: 1.0000\n",
            "Epoch 16/100\n",
            "3/3 [==============================] - 0s 9ms/step - loss: 0.1805 - accuracy: 1.0000\n",
            "Epoch 17/100\n",
            "3/3 [==============================] - 0s 9ms/step - loss: 0.1470 - accuracy: 1.0000\n",
            "Epoch 18/100\n",
            "3/3 [==============================] - 0s 10ms/step - loss: 0.1183 - accuracy: 1.0000\n",
            "Epoch 19/100\n",
            "3/3 [==============================] - 0s 11ms/step - loss: 0.0922 - accuracy: 1.0000\n",
            "Epoch 20/100\n",
            "3/3 [==============================] - 0s 11ms/step - loss: 0.0750 - accuracy: 1.0000\n",
            "Epoch 21/100\n",
            "3/3 [==============================] - 0s 9ms/step - loss: 0.0594 - accuracy: 1.0000\n",
            "Epoch 22/100\n",
            "3/3 [==============================] - 0s 8ms/step - loss: 0.0448 - accuracy: 1.0000\n",
            "Epoch 23/100\n",
            "3/3 [==============================] - 0s 8ms/step - loss: 0.0358 - accuracy: 1.0000\n",
            "Epoch 24/100\n",
            "3/3 [==============================] - 0s 12ms/step - loss: 0.0295 - accuracy: 1.0000\n",
            "Epoch 25/100\n",
            "3/3 [==============================] - 0s 9ms/step - loss: 0.0232 - accuracy: 1.0000\n",
            "Epoch 26/100\n",
            "3/3 [==============================] - 0s 7ms/step - loss: 0.0193 - accuracy: 1.0000\n",
            "Epoch 27/100\n",
            "3/3 [==============================] - 0s 8ms/step - loss: 0.0164 - accuracy: 1.0000\n",
            "Epoch 28/100\n",
            "3/3 [==============================] - 0s 6ms/step - loss: 0.0138 - accuracy: 1.0000\n",
            "Epoch 29/100\n",
            "3/3 [==============================] - 0s 7ms/step - loss: 0.0119 - accuracy: 1.0000\n",
            "Epoch 30/100\n",
            "3/3 [==============================] - 0s 7ms/step - loss: 0.0105 - accuracy: 1.0000\n",
            "Epoch 31/100\n",
            "3/3 [==============================] - 0s 9ms/step - loss: 0.0091 - accuracy: 1.0000\n",
            "Epoch 32/100\n",
            "3/3 [==============================] - 0s 9ms/step - loss: 0.0082 - accuracy: 1.0000\n",
            "Epoch 33/100\n",
            "3/3 [==============================] - 0s 8ms/step - loss: 0.0072 - accuracy: 1.0000\n",
            "Epoch 34/100\n",
            "3/3 [==============================] - 0s 6ms/step - loss: 0.0065 - accuracy: 1.0000\n",
            "Epoch 35/100\n",
            "3/3 [==============================] - 0s 6ms/step - loss: 0.0059 - accuracy: 1.0000\n",
            "Epoch 36/100\n",
            "3/3 [==============================] - 0s 7ms/step - loss: 0.0055 - accuracy: 1.0000\n",
            "Epoch 37/100\n",
            "3/3 [==============================] - 0s 7ms/step - loss: 0.0052 - accuracy: 1.0000\n",
            "Epoch 38/100\n",
            "3/3 [==============================] - 0s 7ms/step - loss: 0.0048 - accuracy: 1.0000\n",
            "Epoch 39/100\n",
            "3/3 [==============================] - 0s 7ms/step - loss: 0.0044 - accuracy: 1.0000\n",
            "Epoch 40/100\n",
            "3/3 [==============================] - 0s 7ms/step - loss: 0.0041 - accuracy: 1.0000\n",
            "Epoch 41/100\n",
            "3/3 [==============================] - 0s 8ms/step - loss: 0.0039 - accuracy: 1.0000\n",
            "Epoch 42/100\n",
            "3/3 [==============================] - 0s 6ms/step - loss: 0.0037 - accuracy: 1.0000\n",
            "Epoch 43/100\n",
            "3/3 [==============================] - 0s 7ms/step - loss: 0.0035 - accuracy: 1.0000\n",
            "Epoch 44/100\n",
            "3/3 [==============================] - 0s 7ms/step - loss: 0.0033 - accuracy: 1.0000\n",
            "Epoch 45/100\n",
            "3/3 [==============================] - 0s 8ms/step - loss: 0.0031 - accuracy: 1.0000\n",
            "Epoch 46/100\n",
            "3/3 [==============================] - 0s 7ms/step - loss: 0.0030 - accuracy: 1.0000\n",
            "Epoch 47/100\n",
            "3/3 [==============================] - 0s 7ms/step - loss: 0.0028 - accuracy: 1.0000\n",
            "Epoch 48/100\n",
            "3/3 [==============================] - 0s 7ms/step - loss: 0.0027 - accuracy: 1.0000\n",
            "Epoch 49/100\n",
            "3/3 [==============================] - 0s 9ms/step - loss: 0.0026 - accuracy: 1.0000\n",
            "Epoch 50/100\n",
            "3/3 [==============================] - 0s 11ms/step - loss: 0.0025 - accuracy: 1.0000\n",
            "Epoch 51/100\n",
            "3/3 [==============================] - 0s 9ms/step - loss: 0.0024 - accuracy: 1.0000\n",
            "Epoch 52/100\n",
            "3/3 [==============================] - 0s 7ms/step - loss: 0.0023 - accuracy: 1.0000\n",
            "Epoch 53/100\n",
            "3/3 [==============================] - 0s 13ms/step - loss: 0.0022 - accuracy: 1.0000\n",
            "Epoch 54/100\n",
            "3/3 [==============================] - 0s 7ms/step - loss: 0.0021 - accuracy: 1.0000\n",
            "Epoch 55/100\n",
            "3/3 [==============================] - 0s 8ms/step - loss: 0.0020 - accuracy: 1.0000\n",
            "Epoch 56/100\n",
            "3/3 [==============================] - 0s 6ms/step - loss: 0.0019 - accuracy: 1.0000\n",
            "Epoch 57/100\n",
            "3/3 [==============================] - 0s 8ms/step - loss: 0.0019 - accuracy: 1.0000\n",
            "Epoch 58/100\n",
            "3/3 [==============================] - 0s 6ms/step - loss: 0.0018 - accuracy: 1.0000\n",
            "Epoch 59/100\n",
            "3/3 [==============================] - 0s 7ms/step - loss: 0.0017 - accuracy: 1.0000\n",
            "Epoch 60/100\n",
            "3/3 [==============================] - 0s 9ms/step - loss: 0.0017 - accuracy: 1.0000\n",
            "Epoch 61/100\n",
            "3/3 [==============================] - 0s 6ms/step - loss: 0.0016 - accuracy: 1.0000\n",
            "Epoch 62/100\n",
            "3/3 [==============================] - 0s 7ms/step - loss: 0.0016 - accuracy: 1.0000\n",
            "Epoch 63/100\n",
            "3/3 [==============================] - 0s 7ms/step - loss: 0.0015 - accuracy: 1.0000\n",
            "Epoch 64/100\n",
            "3/3 [==============================] - 0s 7ms/step - loss: 0.0015 - accuracy: 1.0000\n",
            "Epoch 65/100\n",
            "3/3 [==============================] - 0s 7ms/step - loss: 0.0014 - accuracy: 1.0000\n",
            "Epoch 66/100\n",
            "3/3 [==============================] - 0s 7ms/step - loss: 0.0014 - accuracy: 1.0000\n",
            "Epoch 67/100\n",
            "3/3 [==============================] - 0s 8ms/step - loss: 0.0013 - accuracy: 1.0000\n",
            "Epoch 68/100\n",
            "3/3 [==============================] - 0s 8ms/step - loss: 0.0013 - accuracy: 1.0000\n",
            "Epoch 69/100\n",
            "3/3 [==============================] - 0s 8ms/step - loss: 0.0013 - accuracy: 1.0000\n",
            "Epoch 70/100\n",
            "3/3 [==============================] - 0s 7ms/step - loss: 0.0012 - accuracy: 1.0000\n",
            "Epoch 71/100\n",
            "3/3 [==============================] - 0s 7ms/step - loss: 0.0012 - accuracy: 1.0000\n",
            "Epoch 72/100\n",
            "3/3 [==============================] - 0s 6ms/step - loss: 0.0012 - accuracy: 1.0000\n",
            "Epoch 73/100\n",
            "3/3 [==============================] - 0s 12ms/step - loss: 0.0011 - accuracy: 1.0000\n",
            "Epoch 74/100\n",
            "3/3 [==============================] - 0s 7ms/step - loss: 0.0011 - accuracy: 1.0000\n",
            "Epoch 75/100\n",
            "3/3 [==============================] - 0s 8ms/step - loss: 0.0011 - accuracy: 1.0000\n",
            "Epoch 76/100\n",
            "3/3 [==============================] - 0s 8ms/step - loss: 0.0010 - accuracy: 1.0000\n",
            "Epoch 77/100\n",
            "3/3 [==============================] - 0s 8ms/step - loss: 0.0010 - accuracy: 1.0000\n",
            "Epoch 78/100\n",
            "3/3 [==============================] - 0s 7ms/step - loss: 9.8134e-04 - accuracy: 1.0000\n",
            "Epoch 79/100\n",
            "3/3 [==============================] - 0s 7ms/step - loss: 9.5542e-04 - accuracy: 1.0000\n",
            "Epoch 80/100\n",
            "3/3 [==============================] - 0s 8ms/step - loss: 9.3287e-04 - accuracy: 1.0000\n",
            "Epoch 81/100\n",
            "3/3 [==============================] - 0s 6ms/step - loss: 9.0759e-04 - accuracy: 1.0000\n",
            "Epoch 82/100\n",
            "3/3 [==============================] - 0s 8ms/step - loss: 8.8665e-04 - accuracy: 1.0000\n",
            "Epoch 83/100\n",
            "3/3 [==============================] - 0s 9ms/step - loss: 8.6589e-04 - accuracy: 1.0000\n",
            "Epoch 84/100\n",
            "3/3 [==============================] - 0s 8ms/step - loss: 8.4440e-04 - accuracy: 1.0000\n",
            "Epoch 85/100\n",
            "3/3 [==============================] - 0s 7ms/step - loss: 8.2204e-04 - accuracy: 1.0000\n",
            "Epoch 86/100\n",
            "3/3 [==============================] - 0s 7ms/step - loss: 8.0672e-04 - accuracy: 1.0000\n",
            "Epoch 87/100\n",
            "3/3 [==============================] - 0s 8ms/step - loss: 7.8605e-04 - accuracy: 1.0000\n",
            "Epoch 88/100\n",
            "3/3 [==============================] - 0s 8ms/step - loss: 7.6808e-04 - accuracy: 1.0000\n",
            "Epoch 89/100\n",
            "3/3 [==============================] - 0s 10ms/step - loss: 7.5363e-04 - accuracy: 1.0000\n",
            "Epoch 90/100\n",
            "3/3 [==============================] - 0s 7ms/step - loss: 7.3403e-04 - accuracy: 1.0000\n",
            "Epoch 91/100\n",
            "3/3 [==============================] - 0s 7ms/step - loss: 7.1927e-04 - accuracy: 1.0000\n",
            "Epoch 92/100\n",
            "3/3 [==============================] - 0s 7ms/step - loss: 7.0190e-04 - accuracy: 1.0000\n",
            "Epoch 93/100\n",
            "3/3 [==============================] - 0s 9ms/step - loss: 6.8813e-04 - accuracy: 1.0000\n",
            "Epoch 94/100\n",
            "3/3 [==============================] - 0s 7ms/step - loss: 6.7245e-04 - accuracy: 1.0000\n",
            "Epoch 95/100\n",
            "3/3 [==============================] - 0s 7ms/step - loss: 6.5942e-04 - accuracy: 1.0000\n",
            "Epoch 96/100\n",
            "3/3 [==============================] - 0s 8ms/step - loss: 6.4557e-04 - accuracy: 1.0000\n",
            "Epoch 97/100\n",
            "3/3 [==============================] - 0s 7ms/step - loss: 6.3114e-04 - accuracy: 1.0000\n",
            "Epoch 98/100\n",
            "3/3 [==============================] - 0s 8ms/step - loss: 6.1830e-04 - accuracy: 1.0000\n",
            "Epoch 99/100\n",
            "3/3 [==============================] - 0s 8ms/step - loss: 6.0625e-04 - accuracy: 1.0000\n",
            "Epoch 100/100\n",
            "3/3 [==============================] - 0s 7ms/step - loss: 5.9363e-04 - accuracy: 1.0000\n"
          ]
        },
        {
          "output_type": "execute_result",
          "data": {
            "text/plain": [
              "<keras.callbacks.History at 0x7ff5c572ee20>"
            ]
          },
          "metadata": {},
          "execution_count": 97
        }
      ]
    },
    {
      "cell_type": "markdown",
      "source": [
        "## Feature extraction using sklearn"
      ],
      "metadata": {
        "id": "vE2JvmrlibJK"
      }
    },
    {
      "cell_type": "markdown",
      "source": [
        "### CountVectorizer\n",
        "\n",
        "- text data에서 횟수를 기준으로 feature를 extract하는 방법\n",
        "- 어떤 단위의 횟수를 셀 것인지는 선택사항\n",
        "- 단위는 단어가 될 수도 있고, 문자 하나하나가 될 수 있음\n",
        "- **But. 조사나 지시대명사가 높은 특징 값을 가지기에 유의미하게 사용되기 어려움**"
      ],
      "metadata": {
        "id": "vblalKMQie4G"
      }
    },
    {
      "cell_type": "markdown",
      "source": [],
      "metadata": {
        "id": "ThwsULaCm1jT"
      }
    },
    {
      "cell_type": "code",
      "source": [
        "from sklearn.feature_extraction.text import CountVectorizer"
      ],
      "metadata": {
        "id": "UXtnbzKXlpTy"
      },
      "execution_count": 98,
      "outputs": []
    },
    {
      "cell_type": "code",
      "source": [
        "text_data = ['나는 배가 고프다',\n",
        "             '내일 점심 뭐먹지',\n",
        "             '내일 공부 해야겠다',\n",
        "             '점심 먹고 공부해야지']\n",
        "\n",
        "count_vectorizer = CountVectorizer()"
      ],
      "metadata": {
        "id": "uCR45KZ7lyHv"
      },
      "execution_count": 99,
      "outputs": []
    },
    {
      "cell_type": "code",
      "source": [
        "count_vectorizer.fit(text_data)\n",
        "print(count_vectorizer.vocabulary_)"
      ],
      "metadata": {
        "colab": {
          "base_uri": "https://localhost:8080/"
        },
        "id": "DPN24ozSl-Ry",
        "outputId": "1c239425-1d06-4a91-8d2c-ba1ca5e938b0"
      },
      "execution_count": 100,
      "outputs": [
        {
          "output_type": "stream",
          "name": "stdout",
          "text": [
            "{'나는': 3, '배가': 7, '고프다': 0, '내일': 4, '점심': 8, '뭐먹지': 6, '공부': 1, '해야겠다': 9, '먹고': 5, '공부해야지': 2}\n"
          ]
        }
      ]
    },
    {
      "cell_type": "code",
      "source": [
        "sentence = [text_data[0]]\n",
        "print(count_vectorizer.transform(sentence).toarray())"
      ],
      "metadata": {
        "colab": {
          "base_uri": "https://localhost:8080/"
        },
        "id": "Hcx2myLnmG4h",
        "outputId": "8887a349-01a6-46bc-f2df-f90713686a64"
      },
      "execution_count": 101,
      "outputs": [
        {
          "output_type": "stream",
          "name": "stdout",
          "text": [
            "[[1 0 0 1 0 0 0 1 0 0]]\n"
          ]
        }
      ]
    },
    {
      "cell_type": "markdown",
      "source": [
        "### TfidfVectorizer\n",
        "\n",
        "- TF-IDF라는 특정한 값을 사용해서 text data의 feature를 extract\n",
        "- TF(Term Frequency): 특정 단어가 하나의 데이터 안에서 등장하는 횟수\n",
        "- DF(Document Frequency): 문서 빈도 값. 특정 단어가 여러 데이터에 자주 등장하는지를 알려주는 지표\n",
        "- IDF(Inverse Document Frequency): 1/DF, 특정 단어가 다른 데이터에 등장하지 않을수록 값이 커짐\n",
        "- TF-IDF: TF * IDF. 즉, 어떤 단어가 해당 문서에서 자주 등장하지만 다른 문서에서는 많이 없는 단어일수록 높은 값을 가짐"
      ],
      "metadata": {
        "id": "mPa1l2-TmdzD"
      }
    },
    {
      "cell_type": "code",
      "source": [
        "from sklearn.feature_extraction.text import TfidfVectorizer"
      ],
      "metadata": {
        "id": "-59Fk8janVeQ"
      },
      "execution_count": 102,
      "outputs": []
    },
    {
      "cell_type": "code",
      "source": [
        "text_data = ['나는 배가 고프다',\n",
        "             '내일 점심 뭐먹지',\n",
        "             '내일 공부 해야겠다',\n",
        "             '점심 먹고 공부해야지']\n",
        "\n",
        "tfidf_vectorizer = TfidfVectorizer()"
      ],
      "metadata": {
        "id": "w-4N42ZRoNUT"
      },
      "execution_count": 103,
      "outputs": []
    },
    {
      "cell_type": "code",
      "source": [
        "tfidf_vectorizer.fit(text_data)\n",
        "print(tfidf_vectorizer.vocabulary_)"
      ],
      "metadata": {
        "colab": {
          "base_uri": "https://localhost:8080/"
        },
        "id": "bOMb3AOoox68",
        "outputId": "0eb7257d-69ff-4e0f-8536-d766691de52d"
      },
      "execution_count": 104,
      "outputs": [
        {
          "output_type": "stream",
          "name": "stdout",
          "text": [
            "{'나는': 3, '배가': 7, '고프다': 0, '내일': 4, '점심': 8, '뭐먹지': 6, '공부': 1, '해야겠다': 9, '먹고': 5, '공부해야지': 2}\n"
          ]
        }
      ]
    },
    {
      "cell_type": "code",
      "source": [
        "sentence = [text_data[2]]\n",
        "print(tfidf_vectorizer.transform(sentence).toarray())"
      ],
      "metadata": {
        "colab": {
          "base_uri": "https://localhost:8080/"
        },
        "id": "pmDhPWr7o2DD",
        "outputId": "c7ae0224-bd90-40cd-a422-bd8bea634573"
      },
      "execution_count": 105,
      "outputs": [
        {
          "output_type": "stream",
          "name": "stdout",
          "text": [
            "[[0.         0.61761437 0.         0.         0.48693426 0.\n",
            "  0.         0.         0.         0.61761437]]\n"
          ]
        }
      ]
    },
    {
      "cell_type": "markdown",
      "source": [
        "## Tokenizing"
      ],
      "metadata": {
        "id": "UGfCs77Zo6Qg"
      }
    },
    {
      "cell_type": "markdown",
      "source": [
        "### English tokenizing using NLTK"
      ],
      "metadata": {
        "id": "HFfEoMXYpzPK"
      }
    },
    {
      "cell_type": "code",
      "source": [
        "import nltk\n",
        "nltk.download('popular')"
      ],
      "metadata": {
        "colab": {
          "base_uri": "https://localhost:8080/"
        },
        "id": "xn_jB6AZp6cN",
        "outputId": "46d956df-e5bb-4b8e-b1ce-9d0900131321"
      },
      "execution_count": 106,
      "outputs": [
        {
          "output_type": "stream",
          "name": "stderr",
          "text": [
            "[nltk_data] Downloading collection 'popular'\n",
            "[nltk_data]    | \n",
            "[nltk_data]    | Downloading package cmudict to /root/nltk_data...\n",
            "[nltk_data]    |   Package cmudict is already up-to-date!\n",
            "[nltk_data]    | Downloading package gazetteers to /root/nltk_data...\n",
            "[nltk_data]    |   Package gazetteers is already up-to-date!\n",
            "[nltk_data]    | Downloading package genesis to /root/nltk_data...\n",
            "[nltk_data]    |   Package genesis is already up-to-date!\n",
            "[nltk_data]    | Downloading package gutenberg to /root/nltk_data...\n",
            "[nltk_data]    |   Package gutenberg is already up-to-date!\n",
            "[nltk_data]    | Downloading package inaugural to /root/nltk_data...\n",
            "[nltk_data]    |   Package inaugural is already up-to-date!\n",
            "[nltk_data]    | Downloading package movie_reviews to\n",
            "[nltk_data]    |     /root/nltk_data...\n",
            "[nltk_data]    |   Package movie_reviews is already up-to-date!\n",
            "[nltk_data]    | Downloading package names to /root/nltk_data...\n",
            "[nltk_data]    |   Package names is already up-to-date!\n",
            "[nltk_data]    | Downloading package shakespeare to /root/nltk_data...\n",
            "[nltk_data]    |   Package shakespeare is already up-to-date!\n",
            "[nltk_data]    | Downloading package stopwords to /root/nltk_data...\n",
            "[nltk_data]    |   Package stopwords is already up-to-date!\n",
            "[nltk_data]    | Downloading package treebank to /root/nltk_data...\n",
            "[nltk_data]    |   Package treebank is already up-to-date!\n",
            "[nltk_data]    | Downloading package twitter_samples to\n",
            "[nltk_data]    |     /root/nltk_data...\n",
            "[nltk_data]    |   Package twitter_samples is already up-to-date!\n",
            "[nltk_data]    | Downloading package omw to /root/nltk_data...\n",
            "[nltk_data]    |   Package omw is already up-to-date!\n",
            "[nltk_data]    | Downloading package omw-1.4 to /root/nltk_data...\n",
            "[nltk_data]    |   Package omw-1.4 is already up-to-date!\n",
            "[nltk_data]    | Downloading package wordnet to /root/nltk_data...\n",
            "[nltk_data]    |   Package wordnet is already up-to-date!\n",
            "[nltk_data]    | Downloading package wordnet2021 to /root/nltk_data...\n",
            "[nltk_data]    |   Package wordnet2021 is already up-to-date!\n",
            "[nltk_data]    | Downloading package wordnet31 to /root/nltk_data...\n",
            "[nltk_data]    |   Package wordnet31 is already up-to-date!\n",
            "[nltk_data]    | Downloading package wordnet_ic to /root/nltk_data...\n",
            "[nltk_data]    |   Package wordnet_ic is already up-to-date!\n",
            "[nltk_data]    | Downloading package words to /root/nltk_data...\n",
            "[nltk_data]    |   Package words is already up-to-date!\n",
            "[nltk_data]    | Downloading package maxent_ne_chunker to\n",
            "[nltk_data]    |     /root/nltk_data...\n",
            "[nltk_data]    |   Package maxent_ne_chunker is already up-to-date!\n",
            "[nltk_data]    | Downloading package punkt to /root/nltk_data...\n",
            "[nltk_data]    |   Package punkt is already up-to-date!\n",
            "[nltk_data]    | Downloading package snowball_data to\n",
            "[nltk_data]    |     /root/nltk_data...\n",
            "[nltk_data]    |   Package snowball_data is already up-to-date!\n",
            "[nltk_data]    | Downloading package averaged_perceptron_tagger to\n",
            "[nltk_data]    |     /root/nltk_data...\n",
            "[nltk_data]    |   Package averaged_perceptron_tagger is already up-\n",
            "[nltk_data]    |       to-date!\n",
            "[nltk_data]    | \n",
            "[nltk_data]  Done downloading collection popular\n"
          ]
        },
        {
          "output_type": "execute_result",
          "data": {
            "text/plain": [
              "True"
            ]
          },
          "metadata": {},
          "execution_count": 106
        }
      ]
    },
    {
      "cell_type": "markdown",
      "source": [
        "#### 단어 단위 토크나이징"
      ],
      "metadata": {
        "id": "477oQpjQqEoU"
      }
    },
    {
      "cell_type": "code",
      "source": [
        "from nltk.tokenize import word_tokenize\n",
        "\n",
        "sentence = 'Natural language processing (NLP) is a subfield of computer science, information engineering, \\\n",
        "and artificial intelligence concerned with the interactions between computers and human (natural) languages, \\\n",
        "in particular how to program computers to process and analyze large amounts of natural language data.'\n",
        "\n",
        "print(word_tokenize(sentence))"
      ],
      "metadata": {
        "colab": {
          "base_uri": "https://localhost:8080/"
        },
        "id": "x_Zo9u8jqwLH",
        "outputId": "dc71b439-ae29-41f3-a3ff-97590cd3b63b"
      },
      "execution_count": 107,
      "outputs": [
        {
          "output_type": "stream",
          "name": "stdout",
          "text": [
            "['Natural', 'language', 'processing', '(', 'NLP', ')', 'is', 'a', 'subfield', 'of', 'computer', 'science', ',', 'information', 'engineering', ',', 'and', 'artificial', 'intelligence', 'concerned', 'with', 'the', 'interactions', 'between', 'computers', 'and', 'human', '(', 'natural', ')', 'languages', ',', 'in', 'particular', 'how', 'to', 'program', 'computers', 'to', 'process', 'and', 'analyze', 'large', 'amounts', 'of', 'natural', 'language', 'data', '.']\n"
          ]
        }
      ]
    },
    {
      "cell_type": "markdown",
      "source": [
        "#### 문장 단위 토크나이징"
      ],
      "metadata": {
        "id": "-ulJx3H8rV9I"
      }
    },
    {
      "cell_type": "code",
      "source": [
        "from nltk.tokenize import sent_tokenize\n",
        "\n",
        "sentence = 'Natural language processing (NLP) is a subfield of computer science, information engineering, \\\n",
        "and artificial intelligence concerned with the interactions between computers and human (natural) languages, \\\n",
        "in particular how to program computers to process and analyze large amounts of natural language data. \\\n",
        "Challenges in natural language processing frequently involve speech recognition, natural language understanding, \\\n",
        "and natural language generation'\n",
        "\n",
        "print(sent_tokenize(sentence))"
      ],
      "metadata": {
        "colab": {
          "base_uri": "https://localhost:8080/"
        },
        "id": "ac0W0cyKrhEw",
        "outputId": "c56cf25a-7b35-47ac-ebae-2d0f4d998367"
      },
      "execution_count": 108,
      "outputs": [
        {
          "output_type": "stream",
          "name": "stdout",
          "text": [
            "['Natural language processing (NLP) is a subfield of computer science, information engineering, and artificial intelligence concerned with the interactions between computers and human (natural) languages, in particular how to program computers to process and analyze large amounts of natural language data.', 'Challenges in natural language processing frequently involve speech recognition, natural language understanding, and natural language generation']\n"
          ]
        }
      ]
    },
    {
      "cell_type": "markdown",
      "source": [
        "### English tokenizing using Spacy"
      ],
      "metadata": {
        "id": "hDl7mA2lrmw1"
      }
    },
    {
      "cell_type": "code",
      "source": [
        "!python -m spacy download en"
      ],
      "metadata": {
        "colab": {
          "base_uri": "https://localhost:8080/"
        },
        "id": "Ir9ZATHvr7x8",
        "outputId": "e94deca3-fad0-4e7b-b2b1-fd0337b57a81"
      },
      "execution_count": 109,
      "outputs": [
        {
          "output_type": "stream",
          "name": "stdout",
          "text": [
            "/usr/local/lib/python3.8/dist-packages/torch/cuda/__init__.py:497: UserWarning: Can't initialize NVML\n",
            "  warnings.warn(\"Can't initialize NVML\")\n",
            "2023-03-05 09:04:12.249765: W tensorflow/compiler/xla/stream_executor/platform/default/dso_loader.cc:64] Could not load dynamic library 'libnvinfer.so.7'; dlerror: libnvinfer.so.7: cannot open shared object file: No such file or directory; LD_LIBRARY_PATH: /usr/local/nvidia/lib:/usr/local/nvidia/lib64\n",
            "2023-03-05 09:04:12.250079: W tensorflow/compiler/xla/stream_executor/platform/default/dso_loader.cc:64] Could not load dynamic library 'libnvinfer_plugin.so.7'; dlerror: libnvinfer_plugin.so.7: cannot open shared object file: No such file or directory; LD_LIBRARY_PATH: /usr/local/nvidia/lib:/usr/local/nvidia/lib64\n",
            "2023-03-05 09:04:12.250114: W tensorflow/compiler/tf2tensorrt/utils/py_utils.cc:38] TF-TRT Warning: Cannot dlopen some TensorRT libraries. If you would like to use Nvidia GPU with TensorRT, please make sure the missing libraries mentioned above are installed properly.\n",
            "2023-03-05 09:04:16.093898: E tensorflow/compiler/xla/stream_executor/cuda/cuda_driver.cc:267] failed call to cuInit: CUDA_ERROR_NO_DEVICE: no CUDA-capable device is detected\n",
            "\u001b[38;5;3m⚠ As of spaCy v3.0, shortcuts like 'en' are deprecated. Please use the\n",
            "full pipeline package name 'en_core_web_sm' instead.\u001b[0m\n",
            "Looking in indexes: https://pypi.org/simple, https://us-python.pkg.dev/colab-wheels/public/simple/\n",
            "Collecting en-core-web-sm==3.4.1\n",
            "  Downloading https://github.com/explosion/spacy-models/releases/download/en_core_web_sm-3.4.1/en_core_web_sm-3.4.1-py3-none-any.whl (12.8 MB)\n",
            "\u001b[2K     \u001b[90m━━━━━━━━━━━━━━━━━━━━━━━━━━━━━━━━━━━━━━━━\u001b[0m \u001b[32m12.8/12.8 MB\u001b[0m \u001b[31m7.8 MB/s\u001b[0m eta \u001b[36m0:00:00\u001b[0m\n",
            "\u001b[?25hRequirement already satisfied: spacy<3.5.0,>=3.4.0 in /usr/local/lib/python3.8/dist-packages (from en-core-web-sm==3.4.1) (3.4.4)\n",
            "Requirement already satisfied: langcodes<4.0.0,>=3.2.0 in /usr/local/lib/python3.8/dist-packages (from spacy<3.5.0,>=3.4.0->en-core-web-sm==3.4.1) (3.3.0)\n",
            "Requirement already satisfied: pathy>=0.3.5 in /usr/local/lib/python3.8/dist-packages (from spacy<3.5.0,>=3.4.0->en-core-web-sm==3.4.1) (0.10.1)\n",
            "Requirement already satisfied: requests<3.0.0,>=2.13.0 in /usr/local/lib/python3.8/dist-packages (from spacy<3.5.0,>=3.4.0->en-core-web-sm==3.4.1) (2.25.1)\n",
            "Requirement already satisfied: typer<0.8.0,>=0.3.0 in /usr/local/lib/python3.8/dist-packages (from spacy<3.5.0,>=3.4.0->en-core-web-sm==3.4.1) (0.7.0)\n",
            "Requirement already satisfied: setuptools in /usr/local/lib/python3.8/dist-packages (from spacy<3.5.0,>=3.4.0->en-core-web-sm==3.4.1) (57.4.0)\n",
            "Requirement already satisfied: preshed<3.1.0,>=3.0.2 in /usr/local/lib/python3.8/dist-packages (from spacy<3.5.0,>=3.4.0->en-core-web-sm==3.4.1) (3.0.8)\n",
            "Requirement already satisfied: wasabi<1.1.0,>=0.9.1 in /usr/local/lib/python3.8/dist-packages (from spacy<3.5.0,>=3.4.0->en-core-web-sm==3.4.1) (0.10.1)\n",
            "Requirement already satisfied: jinja2 in /usr/local/lib/python3.8/dist-packages (from spacy<3.5.0,>=3.4.0->en-core-web-sm==3.4.1) (3.1.2)\n",
            "Requirement already satisfied: spacy-loggers<2.0.0,>=1.0.0 in /usr/local/lib/python3.8/dist-packages (from spacy<3.5.0,>=3.4.0->en-core-web-sm==3.4.1) (1.0.4)\n",
            "Requirement already satisfied: cymem<2.1.0,>=2.0.2 in /usr/local/lib/python3.8/dist-packages (from spacy<3.5.0,>=3.4.0->en-core-web-sm==3.4.1) (2.0.7)\n",
            "Requirement already satisfied: murmurhash<1.1.0,>=0.28.0 in /usr/local/lib/python3.8/dist-packages (from spacy<3.5.0,>=3.4.0->en-core-web-sm==3.4.1) (1.0.9)\n",
            "Requirement already satisfied: tqdm<5.0.0,>=4.38.0 in /usr/local/lib/python3.8/dist-packages (from spacy<3.5.0,>=3.4.0->en-core-web-sm==3.4.1) (4.64.1)\n",
            "Requirement already satisfied: numpy>=1.15.0 in /usr/local/lib/python3.8/dist-packages (from spacy<3.5.0,>=3.4.0->en-core-web-sm==3.4.1) (1.22.4)\n",
            "Requirement already satisfied: srsly<3.0.0,>=2.4.3 in /usr/local/lib/python3.8/dist-packages (from spacy<3.5.0,>=3.4.0->en-core-web-sm==3.4.1) (2.4.6)\n",
            "Requirement already satisfied: spacy-legacy<3.1.0,>=3.0.10 in /usr/local/lib/python3.8/dist-packages (from spacy<3.5.0,>=3.4.0->en-core-web-sm==3.4.1) (3.0.12)\n",
            "Requirement already satisfied: thinc<8.2.0,>=8.1.0 in /usr/local/lib/python3.8/dist-packages (from spacy<3.5.0,>=3.4.0->en-core-web-sm==3.4.1) (8.1.7)\n",
            "Requirement already satisfied: catalogue<2.1.0,>=2.0.6 in /usr/local/lib/python3.8/dist-packages (from spacy<3.5.0,>=3.4.0->en-core-web-sm==3.4.1) (2.0.8)\n",
            "Requirement already satisfied: smart-open<7.0.0,>=5.2.1 in /usr/local/lib/python3.8/dist-packages (from spacy<3.5.0,>=3.4.0->en-core-web-sm==3.4.1) (6.3.0)\n",
            "Requirement already satisfied: packaging>=20.0 in /usr/local/lib/python3.8/dist-packages (from spacy<3.5.0,>=3.4.0->en-core-web-sm==3.4.1) (23.0)\n",
            "Requirement already satisfied: pydantic!=1.8,!=1.8.1,<1.11.0,>=1.7.4 in /usr/local/lib/python3.8/dist-packages (from spacy<3.5.0,>=3.4.0->en-core-web-sm==3.4.1) (1.10.5)\n",
            "Requirement already satisfied: typing-extensions>=4.2.0 in /usr/local/lib/python3.8/dist-packages (from pydantic!=1.8,!=1.8.1,<1.11.0,>=1.7.4->spacy<3.5.0,>=3.4.0->en-core-web-sm==3.4.1) (4.5.0)\n",
            "Requirement already satisfied: idna<3,>=2.5 in /usr/local/lib/python3.8/dist-packages (from requests<3.0.0,>=2.13.0->spacy<3.5.0,>=3.4.0->en-core-web-sm==3.4.1) (2.10)\n",
            "Requirement already satisfied: certifi>=2017.4.17 in /usr/local/lib/python3.8/dist-packages (from requests<3.0.0,>=2.13.0->spacy<3.5.0,>=3.4.0->en-core-web-sm==3.4.1) (2022.12.7)\n",
            "Requirement already satisfied: chardet<5,>=3.0.2 in /usr/local/lib/python3.8/dist-packages (from requests<3.0.0,>=2.13.0->spacy<3.5.0,>=3.4.0->en-core-web-sm==3.4.1) (4.0.0)\n",
            "Requirement already satisfied: urllib3<1.27,>=1.21.1 in /usr/local/lib/python3.8/dist-packages (from requests<3.0.0,>=2.13.0->spacy<3.5.0,>=3.4.0->en-core-web-sm==3.4.1) (1.26.14)\n",
            "Requirement already satisfied: blis<0.8.0,>=0.7.8 in /usr/local/lib/python3.8/dist-packages (from thinc<8.2.0,>=8.1.0->spacy<3.5.0,>=3.4.0->en-core-web-sm==3.4.1) (0.7.9)\n",
            "Requirement already satisfied: confection<1.0.0,>=0.0.1 in /usr/local/lib/python3.8/dist-packages (from thinc<8.2.0,>=8.1.0->spacy<3.5.0,>=3.4.0->en-core-web-sm==3.4.1) (0.0.4)\n",
            "Requirement already satisfied: click<9.0.0,>=7.1.1 in /usr/local/lib/python3.8/dist-packages (from typer<0.8.0,>=0.3.0->spacy<3.5.0,>=3.4.0->en-core-web-sm==3.4.1) (8.1.3)\n",
            "Requirement already satisfied: MarkupSafe>=2.0 in /usr/local/lib/python3.8/dist-packages (from jinja2->spacy<3.5.0,>=3.4.0->en-core-web-sm==3.4.1) (2.1.2)\n",
            "\u001b[38;5;2m✔ Download and installation successful\u001b[0m\n",
            "You can now load the package via spacy.load('en_core_web_sm')\n"
          ]
        }
      ]
    },
    {
      "cell_type": "code",
      "source": [
        "import spacy\n",
        "\n",
        "nlp = spacy.load('en_core_web_sm')\n",
        "\n",
        "sentence = 'Natural language processing (NLP) is a subfield of computer science, information engineering, \\\n",
        "and artificial intelligence concerned with the interactions between computers and human (natural) languages, \\\n",
        "in particular how to program computers to process and analyze large amounts of natural language data. \\\n",
        "Challenges in natural language processing frequently involve speech recognition, natural language understanding, \\\n",
        "and natural language generation'\n",
        "\n",
        "doc = nlp(sentence)"
      ],
      "metadata": {
        "id": "QfkhDx9asDLx"
      },
      "execution_count": 110,
      "outputs": []
    },
    {
      "cell_type": "code",
      "source": [
        "word_tokenized_sentence = [token.text for token in doc]\n",
        "sentence_tokenized_list = [sent.text for sent in doc.sents]\n",
        "print(word_tokenized_sentence)\n",
        "print(sentence_tokenized_list)"
      ],
      "metadata": {
        "colab": {
          "base_uri": "https://localhost:8080/"
        },
        "id": "E3P8k7Jushaa",
        "outputId": "17a1a441-8af4-4b2a-b924-4c0d23a64cbe"
      },
      "execution_count": 111,
      "outputs": [
        {
          "output_type": "stream",
          "name": "stdout",
          "text": [
            "['Natural', 'language', 'processing', '(', 'NLP', ')', 'is', 'a', 'subfield', 'of', 'computer', 'science', ',', 'information', 'engineering', ',', 'and', 'artificial', 'intelligence', 'concerned', 'with', 'the', 'interactions', 'between', 'computers', 'and', 'human', '(', 'natural', ')', 'languages', ',', 'in', 'particular', 'how', 'to', 'program', 'computers', 'to', 'process', 'and', 'analyze', 'large', 'amounts', 'of', 'natural', 'language', 'data', '.', 'Challenges', 'in', 'natural', 'language', 'processing', 'frequently', 'involve', 'speech', 'recognition', ',', 'natural', 'language', 'understanding', ',', 'and', 'natural', 'language', 'generation']\n",
            "['Natural language processing (NLP) is a subfield of computer science, information engineering, and artificial intelligence concerned with the interactions between computers and human (natural) languages, in particular how to program computers to process and analyze large amounts of natural language data.', 'Challenges in natural language processing frequently involve speech recognition, natural language understanding, and natural language generation']\n"
          ]
        }
      ]
    },
    {
      "cell_type": "code",
      "source": [
        "# list comprehension\n",
        "word_tokenized_sentence = [token.text for token in doc]\n",
        "sentence_tokenized_list = [sent.text for sent in doc.sents]\n",
        "print(word_tokenized_sentence)\n",
        "print(sentence_tokenized_list)"
      ],
      "metadata": {
        "colab": {
          "base_uri": "https://localhost:8080/"
        },
        "id": "liPEB-wNtKh-",
        "outputId": "9b6e5c6d-d87a-40bd-c45e-caeee43dafa0"
      },
      "execution_count": 112,
      "outputs": [
        {
          "output_type": "stream",
          "name": "stdout",
          "text": [
            "['Natural', 'language', 'processing', '(', 'NLP', ')', 'is', 'a', 'subfield', 'of', 'computer', 'science', ',', 'information', 'engineering', ',', 'and', 'artificial', 'intelligence', 'concerned', 'with', 'the', 'interactions', 'between', 'computers', 'and', 'human', '(', 'natural', ')', 'languages', ',', 'in', 'particular', 'how', 'to', 'program', 'computers', 'to', 'process', 'and', 'analyze', 'large', 'amounts', 'of', 'natural', 'language', 'data', '.', 'Challenges', 'in', 'natural', 'language', 'processing', 'frequently', 'involve', 'speech', 'recognition', ',', 'natural', 'language', 'understanding', ',', 'and', 'natural', 'language', 'generation']\n",
            "['Natural language processing (NLP) is a subfield of computer science, information engineering, and artificial intelligence concerned with the interactions between computers and human (natural) languages, in particular how to program computers to process and analyze large amounts of natural language data.', 'Challenges in natural language processing frequently involve speech recognition, natural language understanding, and natural language generation']\n"
          ]
        }
      ]
    },
    {
      "cell_type": "markdown",
      "source": [
        "### Korean tokenizing using KoNLPy\n",
        "\n",
        "- KoNLPy\n",
        "  - 한글 자연어 처리를 쉽고 간결하게 처리할 수 있도록 만들어진 오픈소스 라이브러리\n",
        "  - 국내에 이미 만들어져 사용되고 있는 여러 형태소 분석기를 사용할 수 있게 허용"
      ],
      "metadata": {
        "id": "vZJoXUjKt6i1"
      }
    },
    {
      "cell_type": "code",
      "source": [
        "%%bash\n",
        "apt-get update\n",
        "apt-get install g++ openjdk-8-jdk python-dev python3-dev\n",
        "pip3 install JPype1\n",
        "pip3 install konlpy"
      ],
      "metadata": {
        "colab": {
          "base_uri": "https://localhost:8080/"
        },
        "id": "IPSJFyvkvbLd",
        "outputId": "164c16e0-45cc-45bb-86c6-3b8ce5caa804"
      },
      "execution_count": 113,
      "outputs": [
        {
          "output_type": "stream",
          "name": "stdout",
          "text": [
            "Hit:1 https://cloud.r-project.org/bin/linux/ubuntu focal-cran40/ InRelease\n",
            "Ign:2 https://developer.download.nvidia.com/compute/machine-learning/repos/ubuntu2004/x86_64  InRelease\n",
            "Hit:3 https://developer.download.nvidia.com/compute/cuda/repos/ubuntu2004/x86_64  InRelease\n",
            "Get:4 http://security.ubuntu.com/ubuntu focal-security InRelease [114 kB]\n",
            "Hit:5 http://ppa.launchpad.net/c2d4u.team/c2d4u4.0+/ubuntu focal InRelease\n",
            "Hit:6 https://developer.download.nvidia.com/compute/machine-learning/repos/ubuntu2004/x86_64  Release\n",
            "Hit:7 http://archive.ubuntu.com/ubuntu focal InRelease\n",
            "Get:8 http://archive.ubuntu.com/ubuntu focal-updates InRelease [114 kB]\n",
            "Hit:10 http://ppa.launchpad.net/cran/libgit2/ubuntu focal InRelease\n",
            "Hit:11 http://ppa.launchpad.net/deadsnakes/ppa/ubuntu focal InRelease\n",
            "Get:12 http://archive.ubuntu.com/ubuntu focal-backports InRelease [108 kB]\n",
            "Hit:13 http://ppa.launchpad.net/graphics-drivers/ppa/ubuntu focal InRelease\n",
            "Hit:14 http://ppa.launchpad.net/ubuntugis/ppa/ubuntu focal InRelease\n",
            "Fetched 336 kB in 2s (140 kB/s)\n",
            "Reading package lists...\n",
            "Reading package lists...\n",
            "Building dependency tree...\n",
            "Reading state information...\n",
            "g++ is already the newest version (4:9.3.0-1ubuntu2).\n",
            "python3-dev is already the newest version (3.8.2-0ubuntu2).\n",
            "python-dev-is-python2 is already the newest version (2.7.17-4).\n",
            "openjdk-8-jdk is already the newest version (8u362-ga-0ubuntu1~20.04.1).\n",
            "0 upgraded, 0 newly installed, 0 to remove and 22 not upgraded.\n",
            "Looking in indexes: https://pypi.org/simple, https://us-python.pkg.dev/colab-wheels/public/simple/\n",
            "Requirement already satisfied: JPype1 in /usr/local/lib/python3.8/dist-packages (1.4.1)\n",
            "Requirement already satisfied: packaging in /usr/local/lib/python3.8/dist-packages (from JPype1) (23.0)\n",
            "Looking in indexes: https://pypi.org/simple, https://us-python.pkg.dev/colab-wheels/public/simple/\n",
            "Requirement already satisfied: konlpy in /usr/local/lib/python3.8/dist-packages (0.6.0)\n",
            "Requirement already satisfied: lxml>=4.1.0 in /usr/local/lib/python3.8/dist-packages (from konlpy) (4.9.2)\n",
            "Requirement already satisfied: JPype1>=0.7.0 in /usr/local/lib/python3.8/dist-packages (from konlpy) (1.4.1)\n",
            "Requirement already satisfied: numpy>=1.6 in /usr/local/lib/python3.8/dist-packages (from konlpy) (1.22.4)\n",
            "Requirement already satisfied: packaging in /usr/local/lib/python3.8/dist-packages (from JPype1>=0.7.0->konlpy) (23.0)\n"
          ]
        }
      ]
    },
    {
      "cell_type": "code",
      "source": [
        "import konlpy"
      ],
      "metadata": {
        "id": "8--vOqQfxF3I"
      },
      "execution_count": 114,
      "outputs": []
    },
    {
      "cell_type": "code",
      "source": [
        "from konlpy.tag import Okt\n",
        "\n",
        "okt = Okt()"
      ],
      "metadata": {
        "id": "58471tOexUuf"
      },
      "execution_count": 115,
      "outputs": []
    },
    {
      "cell_type": "markdown",
      "source": [
        "- **Okt()**\n",
        "\n",
        "  - `okt.morphs()`: 텍스트를 형태소 단위로 나눈다. 옵션으로는 norm과 stem이 있다. 각각 `True` 혹은 `False` 값을 받으며, norm은 normalize의 약자로서 문장을 정규화하는 역할을 하고, stem은 각 단어에서 어간을 추출하는 기능이다. 각각 `True`로 설정하면 각 기능이 적용된다. 옵션을 지정하지 않으면 기본값은 둘 다 `False`로 설정된다.\n",
        "\n",
        "  - `okt.nouns()`: 텍스트에서 명사만 뽑아낸다.\n",
        "\n",
        "  - `okt.phrases()`: 텍스트에서 어절을 뽑아낸다.\n",
        "  \n",
        "  - `okt.pos()`: 위의 세 함수는 어간/명사/어절 등을 추출해내는 추출기로 동작했다면 pos 함수는 각 품사를 태깅하는 역할을 한다. 품사를 태깅한다는 것은 주어진 텍스트를 형태소 단위로 나누고, 나눠진 각 형태소를 그에 해당하는 품사와 함께 리스트화하는 것을 의미한다. 이 함수에서도 옵션을 설정할 수 있는데, morphs 함수와 마찬가지로 norm, stem 옵션이 있고 추가적으로 join 함수가 있는데 이 옵션 값을 `True`로 설정하면 나눠진 형태소와 품사를 '형태소/품사'형태로 같이 붙여서 리스트화한다."
      ],
      "metadata": {
        "id": "0p37tXoJxvq7"
      }
    },
    {
      "cell_type": "code",
      "source": [
        "text = '한글 자연어 처리는 재밌다 이제부터 열심히 해야지ㅎㅎㅎ'\n",
        "\n",
        "print(okt.morphs(text))\n",
        "print(okt.morphs(text, stem=True))\n",
        "print(okt.morphs(text, norm=True))\n",
        "print(okt.morphs(text, stem=True, norm=True))"
      ],
      "metadata": {
        "colab": {
          "base_uri": "https://localhost:8080/"
        },
        "id": "LhS9n2RZyqMV",
        "outputId": "9fd18f01-f533-48bb-8336-236264798c90"
      },
      "execution_count": 116,
      "outputs": [
        {
          "output_type": "stream",
          "name": "stdout",
          "text": [
            "['한글', '자연어', '처리', '는', '재밌다', '이제', '부터', '열심히', '해야지', 'ㅎㅎㅎ']\n",
            "['한글', '자연어', '처리', '는', '재밌다', '이제', '부터', '열심히', '하다', 'ㅎㅎㅎ']\n",
            "['한글', '자연어', '처리', '는', '재밌다', '이제', '부터', '열심히', '해야지', 'ㅎㅎㅎ']\n",
            "['한글', '자연어', '처리', '는', '재밌다', '이제', '부터', '열심히', '하다', 'ㅎㅎㅎ']\n"
          ]
        }
      ]
    },
    {
      "cell_type": "code",
      "source": [
        "print(okt.nouns(text))\n",
        "print(okt.phrases(text))"
      ],
      "metadata": {
        "colab": {
          "base_uri": "https://localhost:8080/"
        },
        "id": "ZvauQIuJ1BF-",
        "outputId": "77936add-9f64-4822-d7fe-6b1a7e9b1b63"
      },
      "execution_count": 117,
      "outputs": [
        {
          "output_type": "stream",
          "name": "stdout",
          "text": [
            "['한글', '자연어', '처리', '이제']\n",
            "['한글', '한글 자연어', '한글 자연어 처리', '이제', '자연어', '처리']\n"
          ]
        }
      ]
    },
    {
      "cell_type": "code",
      "source": [
        "print(okt.pos(text))\n",
        "print(okt.pos(text, join=True))"
      ],
      "metadata": {
        "colab": {
          "base_uri": "https://localhost:8080/"
        },
        "id": "oMTum3Y915Zk",
        "outputId": "49013646-49cf-49c5-ee81-ad3c3fa90027"
      },
      "execution_count": 118,
      "outputs": [
        {
          "output_type": "stream",
          "name": "stdout",
          "text": [
            "[('한글', 'Noun'), ('자연어', 'Noun'), ('처리', 'Noun'), ('는', 'Josa'), ('재밌다', 'Adjective'), ('이제', 'Noun'), ('부터', 'Josa'), ('열심히', 'Adverb'), ('해야지', 'Verb'), ('ㅎㅎㅎ', 'KoreanParticle')]\n",
            "['한글/Noun', '자연어/Noun', '처리/Noun', '는/Josa', '재밌다/Adjective', '이제/Noun', '부터/Josa', '열심히/Adverb', '해야지/Verb', 'ㅎㅎㅎ/KoreanParticle']\n"
          ]
        }
      ]
    },
    {
      "cell_type": "markdown",
      "source": [
        "#### KoNLPy Data"
      ],
      "metadata": {
        "id": "p-mvb78F2A_l"
      }
    },
    {
      "cell_type": "code",
      "source": [
        "from konlpy.corpus import kolaw\n",
        "from konlpy.corpus import kobill"
      ],
      "metadata": {
        "id": "hUn4ePL-2QuC"
      },
      "execution_count": 119,
      "outputs": []
    },
    {
      "cell_type": "code",
      "source": [
        "kolaw.open('constitution.txt').read()[:20]"
      ],
      "metadata": {
        "colab": {
          "base_uri": "https://localhost:8080/",
          "height": 35
        },
        "id": "musFXMoX2WCp",
        "outputId": "01572a46-ac33-437c-8b06-e4537dcfa17c"
      },
      "execution_count": 120,
      "outputs": [
        {
          "output_type": "execute_result",
          "data": {
            "text/plain": [
              "'대한민국헌법\\n\\n유구한 역사와 전통에 '"
            ],
            "application/vnd.google.colaboratory.intrinsic+json": {
              "type": "string"
            }
          },
          "metadata": {},
          "execution_count": 120
        }
      ]
    },
    {
      "cell_type": "code",
      "source": [
        "kobill.open('1809890.txt').read()"
      ],
      "metadata": {
        "colab": {
          "base_uri": "https://localhost:8080/",
          "height": 200
        },
        "id": "UKL5nnuv2aiZ",
        "outputId": "369c74d0-08fc-45fd-80d2-c96f6ce1a4af"
      },
      "execution_count": 121,
      "outputs": [
        {
          "output_type": "execute_result",
          "data": {
            "text/plain": [
              "'지방공무원법 일부개정법률안\\n\\n(정의화의원 대표발의 )\\n\\n 의 안\\n 번 호\\n\\n9890\\n\\n발의연월일 : 2010.  11.  12.  \\n\\n발  의  자 : 정의화․이명수․김을동 \\n\\n이사철․여상규․안규백\\n\\n황영철․박영아․김정훈\\n\\n김학송 의원(10인)\\n\\n제안이유 및 주요내용\\n\\n  초등학교 저학년의 경우에도 부모의 따뜻한 사랑과 보살핌이 필요\\n\\n한 나이이나, 현재 공무원이 자녀를 양육하기 위하여 육아휴직을 할 \\n\\n수 있는 자녀의 나이는 만 6세 이하로 되어 있어 초등학교 저학년인 \\n\\n자녀를 돌보기 위해서는 해당 부모님은 일자리를 그만 두어야 하고 \\n\\n이는 곧 출산의욕을 저하시키는 문제로 이어질 수 있을 것임.\\n\\n  따라서 육아휴직이 가능한 자녀의 연령을 만 8세 이하로 개정하려\\n\\n는 것임(안 제63조제2항제4호).\\n\\n- 1 -\\n\\n\\x0c법률  제        호\\n\\n지방공무원법 일부개정법률안\\n\\n지방공무원법 일부를 다음과 같이 개정한다.\\n\\n제63조제2항제4호 중 “만 6세 이하의 초등학교 취학 전 자녀를”을 “만 \\n\\n8세 이하(취학 중인 경우에는 초등학교 2학년 이하를 말한다)의 자녀를”\\n\\n로 한다.\\n\\n부      칙\\n\\n이 법은 공포한 날부터 시행한다.\\n\\n- 3 -\\n\\n\\x0c신 ·구조문대비표\\n\\n현      행\\n\\n개   정   안\\n\\n제63조(휴직) ① (생  략)\\n\\n제63조(휴직) ① (현행과 같음)\\n\\n  ② 공무원이 다음 각 호의 어\\n\\n  ② -------------------------\\n\\n느 하나에 해당하는 사유로 휴\\n\\n----------------------------\\n\\n직을 원하면 임용권자는 휴직\\n\\n----------------------------\\n\\n을 명할 수 있다. 다만, 제4호\\n\\n-------------.---------------\\n\\n의 경우에는 대통령령으로 정\\n\\n----------------------------\\n\\n하는 특별한 사정이 없으면 휴\\n\\n----------------------------\\n\\n직을 명하여야 한다.\\n\\n--------------.\\n\\n  1. ∼ 3. (생  략)\\n\\n  1. ∼ 3. (현행과 같음)\\n\\n  4. 만 6세 이하의 초등학교 취\\n\\n  4. 만 8세 이하(취학 중인 경우\\n\\n학 전 자녀를 양육하기 위하\\n\\n에는 초등학교 2학년 이하를 \\n\\n여 필요하거나 여자공무원이 \\n\\n말한다)의 자녀를 ----------\\n\\n임신 또는 출산하게 되었을 \\n\\n---------------------------\\n\\n때\\n\\n---------------------------\\n\\n  5.⋅6. (생  략)\\n\\n  ③⋅④ (생  략)\\n\\n--------\\n\\n  5.⋅6. (현행과 같음)\\n\\n  ③⋅④ (현행과 같음)\\n\\n- 5 -\\n\\n\\x0c지방공무원법 일부개정법률안 등 비용추계서 미첨부사유서\\n1.  재정수반요인\\n\\n개정안에서 ｢국가공무원법｣  제71조제2항제4호 중 국가공무원의 육아\\n\\n휴직 가능 자녀의 연령을 만6세 이하에서 만8세 이하로 하고, ｢지방공\\n\\n무원법｣ 제63조제2항제4호 중 지방공무원의 육아휴직 가능 자녀의 연\\n\\n령을 만6세 이하에서 만8세 이하로 하고, ｢교육공무원법｣ 제44조제1항\\n\\n제7조 중 교육공무원의 육아휴직 가능 자녀의 연령을 만6세 이하에서 \\n\\n만8세 이하로 하고, ｢남녀고용평등과 일․가정 양립지원에 관한 법률｣ \\n\\n제19조제1항 중 근로자 육아휴직 가능 자녀연령을 만6세 이하에서 만\\n\\n8세 이하로 조정함에 따라 추가 재정소요가 예상됨.\\n\\n2.  미첨부  근거  규정\\n｢의안의 비용추계에 관한 규칙｣ 제3조제1항 단서 중 제1호(예상되는 비용이 연평균  10억원 미만\\n이거나  한시적인  경비로서  총  30억원  미만인  경우)에  해당함.\\n\\n3.  미첨부  사유\\n\\n개정안에서 국가․지방․교육공무원 및 근로자가 육아휴직을 신청할 \\n\\n수 있는 자녀의 연령을 만6세 이하에서 만8세 이하로 상향조정함에 \\n\\n따라 추가 재정소요가 예상된다. 동 법률 개정안이 2011년에 시행된다\\n\\n고 가정한 경우, 2010년 현재 자녀의 연령이 7세이고 육아휴직을 신청\\n\\n- 7 -\\n\\n\\x0c- 8 -\\n\\n하지 않은 국가․지방․교육공무원 및 근로자가 대상이 된다.\\n\\n대상연령의 확대됨에 따라 육아휴직신청자의 수가 어느 정도 늘어날 \\n\\n것으로 예상된다. 이 경우 발생하는 비용은 현행법에 따르면 월50만원\\n\\n이나 현재 관련법령 개정이 추진되고 있으며, 이에 따라 2011년에는 \\n\\n육아휴직자가 지급받는 월급여액에 비례하여 육아휴직급여가 지급되\\n\\n기 때문에 법령개정을 가정하고 추계한다. 이러한 경우 육아휴직급여\\n\\n액은 육아휴직자가 지급받는 월급여의 40%에 해당한다. 육아휴직자가 \\n\\n발생한 경우 발생하는 비용은 대체인력 고용인건비와 육아휴직자가 \\n\\n받는 월급여액의 40%이다. 이와 대비하여 육아휴직자에게 지급하던 \\n\\n임금은 더 이상 발생하지 않는다. 따라서 실제 발생하는 순비용은 육\\n\\n아휴직자에게 지급하던 월 급여액과 연령 확대에 따라 발생하는 비용\\n\\n인 육아휴직자가 받던 월급여액의 40%와 대체인력 고용인건비의 차\\n\\n액인데 이 값이 0보다 크면 추가 재정소요는 발생하지 않는다고 볼 \\n\\n수 있다.\\n\\n추가비용 발생여부를 정확하게 알아보기 위하여 비용에 대한 수리모\\n\\n델을 만들고 이에 따라 비용발생 여부를 알아보기로 하자. 모델에 사\\n\\n용되는 변수를 다음과 같이 정의한다.\\n\\n발생비용 : N×p×X + N×육아휴직급여액 - N×P\\n\\nN\\n\\nP\\n\\n: 육아휴직대상자의 수\\n\\n: 육아휴직대상자의 월급여액\\n\\n\\x0cp\\n\\nX\\n\\n: 육아휴직자가 발생한 경우 대체 고용할 확률\\n\\n: 대체 고용한 인력에게 지급하는 월급여액\\n\\n위의 수식에서 육아휴직급여액은 육아휴직자 월급여액의 40%까지 지\\n\\n급할 예정이므로 육아휴직급여액은 P×40%이다. 육아휴직자가 발생한 \\n\\n경우 대체 고용할 확률 p는 고용노동부의 육아휴직 관련 자료를 이용\\n\\n한다. 고용노동부에 따르면 2011년의 경우 육아휴직급여 대상자는 \\n\\n40,923명이며, 육아휴직에 따른 대체인력 고용 예상인원은 2,836명이\\n\\n다. 2007년부터 2011년까지의 현황을 정리하면 다음의 [표]와 같다.\\n\\n[표]  육아휴직급여  수급자의  수  및  대체인력  고용  현황:  2007~2011년\\n\\n(단위:  명,  % )\\n\\n2007\\n\\n2008\\n\\n2009\\n\\n2010\\n\\n2011\\n\\n평균\\n\\n육아휴직급여  수급자(A)\\n\\n21,185\\n\\n29,145\\n\\n35,400\\n\\n41,291\\n\\n43,899\\n\\n34,184\\n\\n대체인력  채용(B)\\n\\n796\\n\\n1,658\\n\\n1,957\\n\\n2,396\\n\\n2,836\\n\\n1,929\\n\\n비  율(B/A)\\n\\n3.8\\n\\n5.7\\n\\n5.5\\n\\n5.8\\n\\n6.5\\n\\n5.6\\n\\n자료: 고용노동부  자료를  바탕으로  국회예산정책처  작성\\n\\n위의 [표]의 자료에 따라 육아휴직자가 발생한 경우 대체 고용할 확률 \\n\\np의 값은 5.6%라고 가정한다. 그리고 비용이 발생한다고 가정하여 위\\n\\n의 수식을 다시 작성하면 다음의 수식과 같다.\\n\\nN×p×X + N×육아휴직급여액 - N×P > 0\\n\\n(1)\\n\\n- 9 -\\n\\n\\x0c- 10 -\\n\\nN×5.6%×X + N×P×40% - N×P > 0\\n\\n0.056×X > 0.6P\\n\\nX > 10.7×P\\n\\n(2)\\n\\n(3)\\n\\n(5)\\n\\n위의 수식에 육아휴직자가 받는 월 급여액을 대입하여 대체고용인력\\n\\n자에게 지급하는 월 급여액을 추정하여 보자. 육아휴직자가 월 200만\\n\\n원을 받는다고 가정하면, 대체고용인력자에게 육아휴직자가 받는 월 \\n\\n급여액의 10.7배에 달하는 월 21,428,571원 이상을 지급해야 추가 비용\\n\\n이 발생한다. 대체고용인력자에게 육아휴직자보다 더 많은 월급여액을 \\n\\n주지는 않을 것이고 그리고 10여배 이상 월급을 주지도 않을 것이기 \\n\\n때문에 추가 비용이 발생한다고 보기 힘들다. 위의 수식에서 대체인력 \\n\\n고용확률 p를 20%로 가정하더라도(이 경우 X > 3×P) 200만원 받는 \\n\\n육아휴직자 대체인력에게 월 600만원 이상을 지급해야 추가 비용이 \\n\\n발생한다.\\n\\n행정안전부의 통계자료(행정안전부 통계연감)에서는 지방공무원의 육\\n\\n아휴직 현황자료를 보여주고 있다. 여기서 육아휴직자가 발생한 경우 \\n\\n대체인력을 주로 임용대기자 또는 일용직을 활용하는 것으로 보인다. \\n\\n따라서 공무원의 경우에도 [표]에서 보여주는 일반기업체의 대체인력 \\n\\n고용확률과 차이는 크지 않을 것으로 보인다.\\n\\n이상의 논의를 바탕으로 육아휴직기간을 만6에서 만8세로 연장하더라\\n\\n도 법률 개정에 따른 추가 비용은 발생하지 않을 것으로 예상된다.\\n\\n\\x0c4.  작성자\\n\\n국회예산정책처 법안비용추계1팀\\n\\n팀      장   정 문 종\\n\\n예산분석관   김 태 완\\n\\n(02-788-4649, tanzania@assembly.go.kr)\\n\\n- 11 -\\n\\n\\x0c'"
            ],
            "application/vnd.google.colaboratory.intrinsic+json": {
              "type": "string"
            }
          },
          "metadata": {},
          "execution_count": 121
        }
      ]
    },
    {
      "cell_type": "markdown",
      "source": [
        "#### re\n",
        "\n",
        "  - re는 파이썬 정규 표현식(Regular Expression) 라이브러리\n",
        "  - 문자열을 쉽게 다룰 수 있기에 전처리 과정에서 많이 사용\n",
        "  - 특히 문자열을 제거하거나 검색 혹은 치환 등에 주로 사용"
      ],
      "metadata": {
        "id": "OrNoU0Eq2huS"
      }
    },
    {
      "cell_type": "markdown",
      "source": [
        "Python regular expression\n",
        "\n",
        "|기호|의미|\n",
        "|---|---|\n",
        "|.|줄 바꿈을 제외한 모든 문자 |\n",
        "|^|문자열의 시작|\n",
        "|$|문자열의 끝|\n",
        "|*|앞에 있는 문자가 0회 이상 반복된 문자열|\n",
        "|+|앞에 있는 문자가 1회 이상 반복된 문자열|\n",
        "|{m}|앞 문자를 m회 반복하는 문자열|\n",
        "|{m,n}|앞 문자를 m~n회 반복하는 문자열|\n",
        "|?|앞 문자가 나오거나 나오지 않는 문자열 ({0,1}와 동일)|\n",
        "|\\d|숫자|\n",
        "|\\D|숫자가 아닌 문자|\n",
        "|\\w|숫자 혹은 문자|\n",
        "|\\W|숫자 혹은 문자가 아닌 것|\n",
        "|(...)|괄호 안의 모든 정규 표현식을 만족하는 문자|\n",
        "|[a,b,c]|a,b,c 중 한 개의 문자와 일치|"
      ],
      "metadata": {
        "id": "ezA73Wjn3u4z"
      }
    },
    {
      "cell_type": "code",
      "source": [
        "import re\n",
        "\n",
        "pattern = '\\W+'\n",
        "re_pattern = re.compile(pattern)"
      ],
      "metadata": {
        "id": "CXaZ61IL_gwh"
      },
      "execution_count": 122,
      "outputs": []
    },
    {
      "cell_type": "code",
      "source": [
        "re.search(\"(\\w+)\", \"wow, it is awesome\")"
      ],
      "metadata": {
        "colab": {
          "base_uri": "https://localhost:8080/"
        },
        "id": "AeIWMw1-_oUl",
        "outputId": "e05712f9-a368-4fc1-9834-f58638a75a48"
      },
      "execution_count": 123,
      "outputs": [
        {
          "output_type": "execute_result",
          "data": {
            "text/plain": [
              "<re.Match object; span=(0, 3), match='wow'>"
            ]
          },
          "metadata": {},
          "execution_count": 123
        }
      ]
    },
    {
      "cell_type": "code",
      "source": [
        "re.split(\"\\W\", \"wow, it is awesome\")"
      ],
      "metadata": {
        "colab": {
          "base_uri": "https://localhost:8080/"
        },
        "id": "2Yr60b31_u6P",
        "outputId": "8acaac36-f2aa-41b0-d8db-bff5dea8f72f"
      },
      "execution_count": 124,
      "outputs": [
        {
          "output_type": "execute_result",
          "data": {
            "text/plain": [
              "['wow', '', 'it', 'is', 'awesome']"
            ]
          },
          "metadata": {},
          "execution_count": 124
        }
      ]
    },
    {
      "cell_type": "code",
      "source": [
        "re.sub(\"\\d\", \"number\", \"7 candy\")"
      ],
      "metadata": {
        "colab": {
          "base_uri": "https://localhost:8080/",
          "height": 35
        },
        "id": "AwUvw5zc_zRR",
        "outputId": "cedb15d5-7f29-463b-94d3-ec69908b242c"
      },
      "execution_count": 125,
      "outputs": [
        {
          "output_type": "execute_result",
          "data": {
            "text/plain": [
              "'number candy'"
            ],
            "application/vnd.google.colaboratory.intrinsic+json": {
              "type": "string"
            }
          },
          "metadata": {},
          "execution_count": 125
        }
      ]
    },
    {
      "cell_type": "markdown",
      "source": [
        "#### Beautiful Soup\n",
        "\n",
        "- 주로 웹 크롤링에 사용되는 라이브러리\n",
        "- HTML 문서 혹은 XML 문서에서 데이터를 불러오는 데 사용\n",
        "- 주로 HTML 태그를 제거하기 위해 사용"
      ],
      "metadata": {
        "id": "Yv9OCLOG_32E"
      }
    },
    {
      "cell_type": "code",
      "source": [
        "from bs4 import BeautifulSoup"
      ],
      "metadata": {
        "id": "SzILSvH0AF2p"
      },
      "execution_count": 126,
      "outputs": []
    },
    {
      "cell_type": "code",
      "source": [
        "text = '<body> 이 글은 Beautiful soup 라이브러리를 사용하는 방법에 대한 글입니다.<br> </br>\\\n",
        "라이브러리를 사용하면 쉽게 HTML 태그를 제거할 수 있습니다.'\n",
        "\n",
        "text = BeautifulSoup(text, \"html5lib\").get_text()\n",
        "\n",
        "print(text)"
      ],
      "metadata": {
        "colab": {
          "base_uri": "https://localhost:8080/"
        },
        "id": "lK6kHn0EAM7w",
        "outputId": "5b595412-01dc-42d7-d4b1-7eafe453f9f8"
      },
      "execution_count": 127,
      "outputs": [
        {
          "output_type": "stream",
          "name": "stdout",
          "text": [
            " 이 글은 Beautiful soup 라이브러리를 사용하는 방법에 대한 글입니다. 라이브러리를 사용하면 쉽게 HTML 태그를 제거할 수 있습니다.\n"
          ]
        }
      ]
    }
  ]
}